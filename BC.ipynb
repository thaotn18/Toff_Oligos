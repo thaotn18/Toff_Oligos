{
 "cells": [
  {
   "cell_type": "code",
   "execution_count": null,
   "metadata": {},
   "outputs": [
    {
     "name": "stdout",
     "output_type": "stream",
     "text": [
      "(1, 1)\n",
      "(1, 1)\n",
      "(1, 2)\n",
      "(1, 1)\n",
      "(1, 2)\n",
      "(2, 2)\n"
     ]
    }
   ],
   "source": [
    "# A Python program to print all combinations\n",
    "# with an element-to-itself combination is\n",
    "# also included\n",
    "from itertools import combinations_with_replacement\n",
    " \n",
    "# Get all combinations of [1, 2, 3] and length 2\n",
    "comb = combinations_with_replacement([1,1,2], 2)\n",
    " \n",
    "# Print the obtained combinations\n",
    "for i in list(comb):\n",
    "    print (i)"
   ]
  },
  {
   "cell_type": "code",
   "execution_count": null,
   "metadata": {
    "scrolled": true
   },
   "outputs": [
    {
     "name": "stdout",
     "output_type": "stream",
     "text": [
      "('A', 'T', 'C', 'G')\n",
      "('A', 'T', 'G', 'C')\n",
      "('A', 'C', 'T', 'G')\n",
      "('A', 'C', 'G', 'T')\n",
      "('A', 'G', 'T', 'C')\n",
      "('A', 'G', 'C', 'T')\n",
      "('T', 'A', 'C', 'G')\n",
      "('T', 'A', 'G', 'C')\n",
      "('T', 'C', 'A', 'G')\n",
      "('T', 'C', 'G', 'A')\n",
      "('T', 'G', 'A', 'C')\n",
      "('T', 'G', 'C', 'A')\n",
      "('C', 'A', 'T', 'G')\n",
      "('C', 'A', 'G', 'T')\n",
      "('C', 'T', 'A', 'G')\n",
      "('C', 'T', 'G', 'A')\n",
      "('C', 'G', 'A', 'T')\n",
      "('C', 'G', 'T', 'A')\n",
      "('G', 'A', 'T', 'C')\n",
      "('G', 'A', 'C', 'T')\n",
      "('G', 'T', 'A', 'C')\n",
      "('G', 'T', 'C', 'A')\n",
      "('G', 'C', 'A', 'T')\n",
      "('G', 'C', 'T', 'A')\n",
      "24\n"
     ]
    }
   ],
   "source": [
    "# A Python program to print all\n",
    "# permutations using library function\n",
    "from itertools import permutations\n",
    " \n",
    "# Get all permutations of [1, 2, 3]\n",
    "perm = permutations(['A','T','C','G'],4)\n",
    "count = 0\n",
    "# Print the obtained permutations\n",
    "for i in list(perm):\n",
    "    count = count+1\n",
    "    print (i)\n",
    "print(count)"
   ]
  },
  {
   "cell_type": "code",
   "execution_count": null,
   "metadata": {},
   "outputs": [
    {
     "name": "stdout",
     "output_type": "stream",
     "text": [
      "(1, 1)\n",
      "(1, 2)\n",
      "(1, 3)\n",
      "(1, 4)\n",
      "(2, 1)\n",
      "(2, 2)\n",
      "(2, 3)\n",
      "(2, 4)\n",
      "(3, 1)\n",
      "(3, 2)\n",
      "(3, 3)\n",
      "(3, 4)\n",
      "(4, 1)\n",
      "(4, 2)\n",
      "(4, 3)\n",
      "(4, 4)\n",
      "16\n",
      "[(1, 1), (1, 2), (1, 3), (1, 4), (2, 1), (2, 2), (2, 3), (2, 4), (3, 1), (3, 2), (3, 3), (3, 4), (4, 1), (4, 2), (4, 3), (4, 4)]\n"
     ]
    }
   ],
   "source": [
    "# A Python program to print all\n",
    "# product using library function\n",
    "from itertools import product\n",
    " \n",
    "# Get all products of [1, 2, 3]\n",
    "prod = product([1,2,3,4],repeat = 2)\n",
    "count = 0\n",
    "#test = ()\n",
    "test = []\n",
    "# Print the obtained Products and count\n",
    "for i in list(prod):\n",
    "    count = count+1\n",
    "    print (i)\n",
    "    #test = test + i\n",
    "    test.append(i)\n",
    "print(count)\n",
    "print(test)\n"
   ]
  },
  {
   "cell_type": "code",
   "execution_count": null,
   "metadata": {},
   "outputs": [],
   "source": [
    "seq=[]\n",
    "\n",
    "for i in range(len(test)-1):\n",
    "    if test[i][1] == test[i+1][0]:\n",
    "        seq.append(test[i])\n",
    "        seq.append(test[i+1][1])\n",
    "        print(seq)\n",
    "    else:\n",
    "        print(\"no\")"
   ]
  },
  {
   "cell_type": "code",
   "execution_count": null,
   "metadata": {},
   "outputs": [
    {
     "data": {
      "text/plain": [
       "['T', 'G', 'A', 'T', 'G', 'G', 'T', 'G', 'T', 'G']"
      ]
     },
     "execution_count": 58,
     "metadata": {},
     "output_type": "execute_result"
    }
   ],
   "source": [
    "from random import choices\n",
    "\n",
    "# Chose A T G C random,(weighted sampling with replacement), k = length\n",
    "choices(['A','T','C','G'],[1,1,1,2],k=10)\n"
   ]
  },
  {
   "cell_type": "code",
   "execution_count": 3,
   "metadata": {},
   "outputs": [
    {
     "name": "stdout",
     "output_type": "stream",
     "text": [
      "1048576\n"
     ]
    }
   ],
   "source": [
    "# A Python program to print all\n",
    "# product using library function\n",
    "from itertools import product\n",
    " \n",
    "# Get all products of [A, T, C, G], repeat = length\n",
    "ATCGprod = product(['A','T','C','G'],repeat = 10)\n",
    "count = 0\n",
    "seq10bp = []\n",
    "# Print the obtained Products and count\n",
    "for i in list(ATCGprod):\n",
    "    count = count+1\n",
    "    seq10bp.append(i)\n",
    "    #print (i)\n",
    "print(count)"
   ]
  },
  {
   "cell_type": "code",
   "execution_count": 4,
   "metadata": {},
   "outputs": [
    {
     "data": {
      "text/plain": [
       "[('A', 'A', 'A', 'A', 'A', 'A', 'A', 'A', 'A', 'A'),\n",
       " ('A', 'A', 'A', 'A', 'A', 'A', 'A', 'A', 'A', 'T'),\n",
       " ('A', 'A', 'A', 'A', 'A', 'A', 'A', 'A', 'A', 'C'),\n",
       " ('A', 'A', 'A', 'A', 'A', 'A', 'A', 'A', 'A', 'G'),\n",
       " ('A', 'A', 'A', 'A', 'A', 'A', 'A', 'A', 'T', 'A'),\n",
       " ('A', 'A', 'A', 'A', 'A', 'A', 'A', 'A', 'T', 'T'),\n",
       " ('A', 'A', 'A', 'A', 'A', 'A', 'A', 'A', 'T', 'C'),\n",
       " ('A', 'A', 'A', 'A', 'A', 'A', 'A', 'A', 'T', 'G'),\n",
       " ('A', 'A', 'A', 'A', 'A', 'A', 'A', 'A', 'C', 'A'),\n",
       " ('A', 'A', 'A', 'A', 'A', 'A', 'A', 'A', 'C', 'T')]"
      ]
     },
     "execution_count": 4,
     "metadata": {},
     "output_type": "execute_result"
    }
   ],
   "source": [
    "seq10bp[0:10]"
   ]
  },
  {
   "cell_type": "code",
   "execution_count": 6,
   "metadata": {},
   "outputs": [],
   "source": [
    "def convertTuple(tup):\n",
    "        # initialize an empty string\n",
    "    str = ''\n",
    "    seqlist = []\n",
    "    for item in tup:\n",
    "        str = str + item\n",
    "    if not 'AAAA' in str and not 'TTTT' in str and not 'CCCC' in str and not 'GGGG' in str:\n",
    "        str1 = str\n",
    "        seqlist.append(str1)\n",
    "        return seqlist"
   ]
  },
  {
   "cell_type": "code",
   "execution_count": 7,
   "metadata": {},
   "outputs": [
    {
     "name": "stdout",
     "output_type": "stream",
     "text": [
      "None\n"
     ]
    }
   ],
   "source": [
    "test = convertTuple(seq10bp[0])\n",
    "print(test)"
   ]
  },
  {
   "cell_type": "code",
   "execution_count": 8,
   "metadata": {},
   "outputs": [],
   "source": [
    "def convertTuple(list):\n",
    "    seqlist = []\n",
    "    count = 0\n",
    "    for i in list:\n",
    "        # initialize an empty string\n",
    "        str = ''\n",
    "        for item in i:\n",
    "            str = str + item\n",
    "        if not 'AAAA' in str and not 'TTTT' in str and not 'CCCC' in str and not 'GGGG' in str:\n",
    "            seqlist.append(str)\n",
    "            count = count+1\n",
    "    print(count)\n",
    "    return seqlist"
   ]
  },
  {
   "cell_type": "code",
   "execution_count": 32,
   "metadata": {},
   "outputs": [
    {
     "name": "stdout",
     "output_type": "stream",
     "text": [
      "959472\n"
     ]
    }
   ],
   "source": [
    "seqfilter = convertTuple(seq10bp)"
   ]
  },
  {
   "cell_type": "code",
   "execution_count": 10,
   "metadata": {},
   "outputs": [
    {
     "data": {
      "text/plain": [
       "0.9150238037109375"
      ]
     },
     "execution_count": 10,
     "metadata": {},
     "output_type": "execute_result"
    }
   ],
   "source": [
    "len(seqfilter)/len(seq10bp)"
   ]
  },
  {
   "cell_type": "code",
   "execution_count": 11,
   "metadata": {},
   "outputs": [
    {
     "data": {
      "text/plain": [
       "['GGGCGGCCTG',\n",
       " 'GGGCGGCCCA',\n",
       " 'GGGCGGCCCT',\n",
       " 'GGGCGGCCCG',\n",
       " 'GGGCGGCCGA',\n",
       " 'GGGCGGCCGT',\n",
       " 'GGGCGGCCGC',\n",
       " 'GGGCGGCCGG',\n",
       " 'GGGCGGCGAA',\n",
       " 'GGGCGGCGAT',\n",
       " 'GGGCGGCGAC',\n",
       " 'GGGCGGCGAG',\n",
       " 'GGGCGGCGTA',\n",
       " 'GGGCGGCGTT',\n",
       " 'GGGCGGCGTC',\n",
       " 'GGGCGGCGTG',\n",
       " 'GGGCGGCGCA',\n",
       " 'GGGCGGCGCT',\n",
       " 'GGGCGGCGCC',\n",
       " 'GGGCGGCGCG',\n",
       " 'GGGCGGCGGA',\n",
       " 'GGGCGGCGGT',\n",
       " 'GGGCGGCGGC',\n",
       " 'GGGCGGCGGG',\n",
       " 'GGGCGGGAAA',\n",
       " 'GGGCGGGAAT',\n",
       " 'GGGCGGGAAC',\n",
       " 'GGGCGGGAAG',\n",
       " 'GGGCGGGATA',\n",
       " 'GGGCGGGATT',\n",
       " 'GGGCGGGATC',\n",
       " 'GGGCGGGATG',\n",
       " 'GGGCGGGACA',\n",
       " 'GGGCGGGACT',\n",
       " 'GGGCGGGACC',\n",
       " 'GGGCGGGACG',\n",
       " 'GGGCGGGAGA',\n",
       " 'GGGCGGGAGT',\n",
       " 'GGGCGGGAGC',\n",
       " 'GGGCGGGAGG',\n",
       " 'GGGCGGGTAA',\n",
       " 'GGGCGGGTAT',\n",
       " 'GGGCGGGTAC',\n",
       " 'GGGCGGGTAG',\n",
       " 'GGGCGGGTTA',\n",
       " 'GGGCGGGTTT',\n",
       " 'GGGCGGGTTC',\n",
       " 'GGGCGGGTTG',\n",
       " 'GGGCGGGTCA',\n",
       " 'GGGCGGGTCT',\n",
       " 'GGGCGGGTCC',\n",
       " 'GGGCGGGTCG',\n",
       " 'GGGCGGGTGA',\n",
       " 'GGGCGGGTGT',\n",
       " 'GGGCGGGTGC',\n",
       " 'GGGCGGGTGG',\n",
       " 'GGGCGGGCAA',\n",
       " 'GGGCGGGCAT',\n",
       " 'GGGCGGGCAC',\n",
       " 'GGGCGGGCAG',\n",
       " 'GGGCGGGCTA',\n",
       " 'GGGCGGGCTT',\n",
       " 'GGGCGGGCTC',\n",
       " 'GGGCGGGCTG',\n",
       " 'GGGCGGGCCA',\n",
       " 'GGGCGGGCCT',\n",
       " 'GGGCGGGCCC',\n",
       " 'GGGCGGGCCG',\n",
       " 'GGGCGGGCGA',\n",
       " 'GGGCGGGCGT',\n",
       " 'GGGCGGGCGC',\n",
       " 'GGGCGGGCGG']"
      ]
     },
     "execution_count": 11,
     "metadata": {},
     "output_type": "execute_result"
    }
   ],
   "source": [
    "seqfilter[959400:959472]"
   ]
  },
  {
   "cell_type": "code",
   "execution_count": 1,
   "metadata": {},
   "outputs": [],
   "source": [
    "#import Bio\n",
    "from Bio import BiopythonWarning\n",
    "from Bio import SeqUtils, Seq\n",
    "from Bio.SeqUtils import gc_fraction"
   ]
  },
  {
   "cell_type": "code",
   "execution_count": 30,
   "metadata": {},
   "outputs": [],
   "source": [
    "#gc_fraction(seqfilter[959471])\n",
    "\n",
    "def filterGC(list):\n",
    "    seqGC = []\n",
    "    count = 0\n",
    "    for i in list:\n",
    "        if gc_fraction(i) >= 0.5 and gc_fraction(i) <= 0.6:\n",
    "            seqGC.append(i)\n",
    "            count = count+1\n",
    "    print(count)\n",
    "    return seqGC"
   ]
  },
  {
   "cell_type": "code",
   "execution_count": 34,
   "metadata": {},
   "outputs": [
    {
     "name": "stdout",
     "output_type": "stream",
     "text": [
      "451128\n"
     ]
    }
   ],
   "source": [
    "seqGC = filterGC(seqfilter)"
   ]
  },
  {
   "cell_type": "code",
   "execution_count": 35,
   "metadata": {},
   "outputs": [
    {
     "data": {
      "text/plain": [
       "0.43022918701171875"
      ]
     },
     "execution_count": 35,
     "metadata": {},
     "output_type": "execute_result"
    }
   ],
   "source": [
    "len(seqGC)/len(seq10bp)\n"
   ]
  },
  {
   "cell_type": "code",
   "execution_count": 61,
   "metadata": {},
   "outputs": [],
   "source": [
    "str = ''\n",
    "seqlist = []\n",
    "for item in seq10bp[0]:\n",
    "    str = str + item\n",
    "if not 'AAAA' in str and not 'TTTT' in str and not 'CCCC' in str and not 'GGGG' in str:\n",
    "    seqlist.append(str)\n",
    "    print(seqlist)"
   ]
  },
  {
   "cell_type": "code",
   "execution_count": 60,
   "metadata": {},
   "outputs": [],
   "source": [
    "str = 'AAAATTTT'\n",
    "\n",
    "if not 'AAAA' in str and not 'TTTT' in str and not 'CCCC' in str and not 'GGGG' in str:\n",
    "    print('hi')\n",
    "    print(str)"
   ]
  },
  {
   "cell_type": "code",
   "execution_count": 33,
   "metadata": {},
   "outputs": [
    {
     "name": "stdout",
     "output_type": "stream",
     "text": [
      "17611\n",
      "8271\n",
      "33432\n",
      "15455\n"
     ]
    }
   ],
   "source": [
    "from random import seed\n",
    "from random import randint\n",
    "# seed random number generator\n",
    "seed(1)\n",
    "# generate some integers\n",
    "for _ in range(4):\n",
    "\tvalue = randint(0, 65536)\n",
    "\tprint(value)"
   ]
  },
  {
   "cell_type": "code",
   "execution_count": null,
   "metadata": {},
   "outputs": [],
   "source": []
  }
 ],
 "metadata": {
  "kernelspec": {
   "display_name": "Python 3",
   "language": "python",
   "name": "python3"
  },
  "language_info": {
   "codemirror_mode": {
    "name": "ipython",
    "version": 3
   },
   "file_extension": ".py",
   "mimetype": "text/x-python",
   "name": "python",
   "nbconvert_exporter": "python",
   "pygments_lexer": "ipython3",
   "version": "3.11.9"
  }
 },
 "nbformat": 4,
 "nbformat_minor": 4
}
